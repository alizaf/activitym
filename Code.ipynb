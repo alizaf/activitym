{
 "cells": [
  {
   "cell_type": "markdown",
   "metadata": {},
   "source": [
    "# Activity Classification:\n",
    "- Data from a wearable accelerometer mounted on the chest. Uncalibrated Accelerometer Data are collected from 15 participants and 7 activities. \n",
    "- Goal of this challenge is to train and test three classifiers to predict type of activity using provided data. \n",
    "\n",
    "## Attributes and and activities:\n",
    "\n",
    "- Labels are specified as follows:\n",
    "    \n",
    "  1. Working at Computer\n",
    "  2. Standing Up, Walking and Going up\\down stairs\n",
    "  3. Standing\n",
    "  4. Walking\n",
    "  5. Going Up\\Down Stairs\n",
    "  6. Walking and Talking with Someone\n",
    "  7. Talking while Standing\n",
    "\n",
    "## Challenges with data:\n",
    " - A quick look into the labels and provided data shows an unbalance support data for labels. \n",
    " - There are list of 7 activities provided by the data dictionary, but an extra label 0 is existing is data. For now, I leave it as an extra label in the model, another approach is to maybe treat them as a missing data and drop this label and focus on the other 7 labels. This would be reasonable considering small size of this group. \n",
    " \n",
    "## Feature discrepancy:\n",
    "- Sequential number: This feature provides order of data points, and should be considered carefully. As we are currently considering data from 15 people, and this data seems from experimental structure, this feature might provide additional information that might artificially help with accuracy of the model. On the other hand, sequential changes in acceleration might be necessary to predict the activity. \n"
   ]
  },
  {
   "cell_type": "code",
   "execution_count": 80,
   "metadata": {
    "collapsed": false,
    "scrolled": false
   },
   "outputs": [],
   "source": [
    "import pandas as pd\n",
    "import numpy as np\n",
    "import matplotlib.pyplot as plt\n",
    "%matplotlib inline\n",
    "import os\n",
    "import random\n",
    "from sklearn.ensemble import RandomForestClassifier as rf\n",
    "from sklearn.linear_model import LogisticRegression as lr\n",
    "from sklearn.ensemble import GradientBoostingClassifier as gb\n",
    "from sklearn.cross_validation import train_test_split\n",
    "from sklearn import metrics\n",
    "from sklearn import svm\n",
    "from sklearn.preprocessing import StandardScaler\n",
    "import seaborn"
   ]
  },
  {
   "cell_type": "markdown",
   "metadata": {},
   "source": [
    "## Loading data"
   ]
  },
  {
   "cell_type": "code",
   "execution_count": 95,
   "metadata": {
    "collapsed": false
   },
   "outputs": [],
   "source": [
    "df = pd.DataFrame()\n",
    "for i,s in enumerate(os.listdir('data')):\n",
    "    if s.endswith('.csv'):\n",
    "        df = pd.concat([df, pd.read_csv('data/'+s, names=[ 'sequential number',\n",
    "                                                          'x acceleration', \n",
    "                                                          'y acceleration', \n",
    "                                                          'z acceleration', \n",
    "                                                          'label'])])\n",
    "        "
   ]
  },
  {
   "cell_type": "code",
   "execution_count": 96,
   "metadata": {
    "collapsed": true
   },
   "outputs": [],
   "source": [
    "# removing label 0, which is not in the library\n",
    "df = df[df.label != 0]"
   ]
  },
  {
   "cell_type": "code",
   "execution_count": 97,
   "metadata": {
    "collapsed": false
   },
   "outputs": [
    {
     "data": {
      "text/html": [
       "<div>\n",
       "<table border=\"1\" class=\"dataframe\">\n",
       "  <thead>\n",
       "    <tr style=\"text-align: right;\">\n",
       "      <th></th>\n",
       "      <th>sequential number</th>\n",
       "      <th>x acceleration</th>\n",
       "      <th>y acceleration</th>\n",
       "      <th>z acceleration</th>\n",
       "      <th>label</th>\n",
       "    </tr>\n",
       "  </thead>\n",
       "  <tbody>\n",
       "    <tr>\n",
       "      <th>sequential number</th>\n",
       "      <td>1.000000</td>\n",
       "      <td>0.062813</td>\n",
       "      <td>0.035150</td>\n",
       "      <td>0.019805</td>\n",
       "      <td>0.898094</td>\n",
       "    </tr>\n",
       "    <tr>\n",
       "      <th>x acceleration</th>\n",
       "      <td>0.062813</td>\n",
       "      <td>1.000000</td>\n",
       "      <td>0.363657</td>\n",
       "      <td>0.009827</td>\n",
       "      <td>0.077737</td>\n",
       "    </tr>\n",
       "    <tr>\n",
       "      <th>y acceleration</th>\n",
       "      <td>0.035150</td>\n",
       "      <td>0.363657</td>\n",
       "      <td>1.000000</td>\n",
       "      <td>0.345655</td>\n",
       "      <td>0.048724</td>\n",
       "    </tr>\n",
       "    <tr>\n",
       "      <th>z acceleration</th>\n",
       "      <td>0.019805</td>\n",
       "      <td>0.009827</td>\n",
       "      <td>0.345655</td>\n",
       "      <td>1.000000</td>\n",
       "      <td>0.035025</td>\n",
       "    </tr>\n",
       "    <tr>\n",
       "      <th>label</th>\n",
       "      <td>0.898094</td>\n",
       "      <td>0.077737</td>\n",
       "      <td>0.048724</td>\n",
       "      <td>0.035025</td>\n",
       "      <td>1.000000</td>\n",
       "    </tr>\n",
       "  </tbody>\n",
       "</table>\n",
       "</div>"
      ],
      "text/plain": [
       "                   sequential number  x acceleration  y acceleration  \\\n",
       "sequential number           1.000000        0.062813        0.035150   \n",
       "x acceleration              0.062813        1.000000        0.363657   \n",
       "y acceleration              0.035150        0.363657        1.000000   \n",
       "z acceleration              0.019805        0.009827        0.345655   \n",
       "label                       0.898094        0.077737        0.048724   \n",
       "\n",
       "                   z acceleration     label  \n",
       "sequential number        0.019805  0.898094  \n",
       "x acceleration           0.009827  0.077737  \n",
       "y acceleration           0.345655  0.048724  \n",
       "z acceleration           1.000000  0.035025  \n",
       "label                    0.035025  1.000000  "
      ]
     },
     "execution_count": 97,
     "metadata": {},
     "output_type": "execute_result"
    }
   ],
   "source": [
    "#Sequential number is highly correlated with label\n",
    "df.corr()"
   ]
  },
  {
   "cell_type": "code",
   "execution_count": 98,
   "metadata": {
    "collapsed": false
   },
   "outputs": [],
   "source": [
    "# we drop Sequential numbr from data\n",
    "df_new = df.drop('sequential number', axis=1)"
   ]
  },
  {
   "cell_type": "code",
   "execution_count": 99,
   "metadata": {
    "collapsed": false,
    "scrolled": true
   },
   "outputs": [
    {
     "data": {
      "text/html": [
       "<div>\n",
       "<table border=\"1\" class=\"dataframe\">\n",
       "  <thead>\n",
       "    <tr style=\"text-align: right;\">\n",
       "      <th></th>\n",
       "      <th>x acceleration</th>\n",
       "      <th>y acceleration</th>\n",
       "      <th>z acceleration</th>\n",
       "      <th>label</th>\n",
       "    </tr>\n",
       "  </thead>\n",
       "  <tbody>\n",
       "    <tr>\n",
       "      <th>0</th>\n",
       "      <td>1502</td>\n",
       "      <td>2215</td>\n",
       "      <td>2153</td>\n",
       "      <td>1</td>\n",
       "    </tr>\n",
       "    <tr>\n",
       "      <th>1</th>\n",
       "      <td>1667</td>\n",
       "      <td>2072</td>\n",
       "      <td>2047</td>\n",
       "      <td>1</td>\n",
       "    </tr>\n",
       "    <tr>\n",
       "      <th>2</th>\n",
       "      <td>1611</td>\n",
       "      <td>1957</td>\n",
       "      <td>1906</td>\n",
       "      <td>1</td>\n",
       "    </tr>\n",
       "    <tr>\n",
       "      <th>3</th>\n",
       "      <td>1601</td>\n",
       "      <td>1939</td>\n",
       "      <td>1831</td>\n",
       "      <td>1</td>\n",
       "    </tr>\n",
       "    <tr>\n",
       "      <th>4</th>\n",
       "      <td>1643</td>\n",
       "      <td>1965</td>\n",
       "      <td>1879</td>\n",
       "      <td>1</td>\n",
       "    </tr>\n",
       "  </tbody>\n",
       "</table>\n",
       "</div>"
      ],
      "text/plain": [
       "   x acceleration  y acceleration  z acceleration  label\n",
       "0            1502            2215            2153      1\n",
       "1            1667            2072            2047      1\n",
       "2            1611            1957            1906      1\n",
       "3            1601            1939            1831      1\n",
       "4            1643            1965            1879      1"
      ]
     },
     "execution_count": 99,
     "metadata": {},
     "output_type": "execute_result"
    }
   ],
   "source": [
    "df_new.head()"
   ]
  },
  {
   "cell_type": "code",
   "execution_count": 100,
   "metadata": {
    "collapsed": false,
    "scrolled": true
   },
   "outputs": [],
   "source": [
    "def train_classifier(df, cl, test_ratio):\n",
    "    y = df.pop('label')\n",
    "    X = df.values\n",
    "    X =StandardScaler().fit_transform(X)\n",
    "    Xtrain,Xtest,ytrain,ytest = train_test_split(X,y,test_size=test_ratio, random_state=0)\n",
    "    clf = cl()\n",
    "    clf.fit(Xtrain,ytrain)\n",
    "    y_pred = clf.predict(Xtest)\n",
    "    cm = metrics.confusion_matrix(ytest, y_pred)\n",
    "    cm_norm = cm.astype('float') / cm.sum(axis=1)[:, np.newaxis]\n",
    "\n",
    "    print(\"Classifier %s:\\n%s\\n\"\n",
    "      % (cl.__name__, metrics.classification_report(ytest, y_pred)))\n",
    "    print(\"Confusion Matrix:\\n%s\" % cm)\n",
    "    print(\"Normalized Confusion Matrix:\\n%s\" % cm_norm.round(decimals=2))\n",
    "    seaborn.heatmap(cm_norm)\n",
    "    return clf, cm, cm_norm"
   ]
  },
  {
   "cell_type": "markdown",
   "metadata": {},
   "source": [
    "## Baseline model"
   ]
  },
  {
   "cell_type": "code",
   "execution_count": 101,
   "metadata": {
    "collapsed": false,
    "scrolled": false
   },
   "outputs": [
    {
     "name": "stderr",
     "output_type": "stream",
     "text": [
      "/Users/alizaf/anaconda/lib/python2.7/site-packages/sklearn/utils/validation.py:420: DataConversionWarning: Data with input dtype int64 was converted to float64 by StandardScaler.\n",
      "  warnings.warn(msg, DataConversionWarning)\n",
      "/Users/alizaf/anaconda/lib/python2.7/site-packages/sklearn/utils/validation.py:420: DataConversionWarning: Data with input dtype int64 was converted to float64 by StandardScaler.\n",
      "  warnings.warn(msg, DataConversionWarning)\n"
     ]
    },
    {
     "name": "stdout",
     "output_type": "stream",
     "text": [
      "Classifier RandomForestClassifier:\n",
      "             precision    recall  f1-score   support\n",
      "\n",
      "          1       0.85      0.88      0.87    182770\n",
      "          2       0.34      0.20      0.25     14420\n",
      "          3       0.49      0.44      0.47     64883\n",
      "          4       0.61      0.69      0.65    107140\n",
      "          5       0.25      0.14      0.18     15349\n",
      "          6       0.34      0.22      0.27     14362\n",
      "          7       0.76      0.78      0.77    178030\n",
      "\n",
      "avg / total       0.70      0.71      0.70    576954\n",
      "\n",
      "\n",
      "Confusion Matrix:\n",
      "[[161441   2511   2880   6721    518    271   8428]\n",
      " [  5388   2888    962   3008    110     70   1994]\n",
      " [  3836    734  28657  14327   2082   1382  13865]\n",
      " [  8033   1075   9625  73430   1487    823  12667]\n",
      " [  1373    110   3004   5834   2084    438   2506]\n",
      " [   663     98   1990   2808    572   3117   5114]\n",
      " [  8723   1180  11056  14217   1390   3025 138439]]\n",
      "Normalized Confusion Matrix:\n",
      "[[ 0.88  0.01  0.02  0.04  0.    0.    0.05]\n",
      " [ 0.37  0.2   0.07  0.21  0.01  0.    0.14]\n",
      " [ 0.06  0.01  0.44  0.22  0.03  0.02  0.21]\n",
      " [ 0.07  0.01  0.09  0.69  0.01  0.01  0.12]\n",
      " [ 0.09  0.01  0.2   0.38  0.14  0.03  0.16]\n",
      " [ 0.05  0.01  0.14  0.2   0.04  0.22  0.36]\n",
      " [ 0.05  0.01  0.06  0.08  0.01  0.02  0.78]]\n"
     ]
    },
    {
     "data": {
      "image/png": "[encoded data removed]",
      "text/plain": [
       "<matplotlib.figure.Figure at 0x10ea0f150>"
      ]
     },
     "metadata": {},
     "output_type": "display_data"
    }
   ],
   "source": [
    "rfc, cm, cm_norm = train_classifier(df_new.copy(), rf, 0.3)"
   ]
  },
  {
   "cell_type": "markdown",
   "metadata": {},
   "source": [
    "# Feature engineering for improving results\n",
    "## Feature extraction from Sequential Numbers:\n",
    "- One simple way is to group a number of sequences to create new data point. Here I grouped every 20 data point and used mean, std, max and min of the goroup as features representing new data point."
   ]
  },
  {
   "cell_type": "code",
   "execution_count": 102,
   "metadata": {
    "collapsed": true
   },
   "outputs": [],
   "source": [
    "df['id'] = df['sequential number']//20\n",
    "df = pd.DataFrame()\n",
    "ndata = 0\n",
    "for i,s in enumerate(os.listdir('data')):\n",
    "    if s.endswith('.csv'):\n",
    "        dftemp = pd.read_csv('data/'+s, \\\n",
    "        names=[ 'sequential number', 'x acceleration', 'y acceleration',\n",
    "               'z acceleration', 'label'])\n",
    "        dftemp['id'] = ndata + dftemp['sequential number']\n",
    "        dftemp['id'] = dftemp['id']//10\n",
    "        dftemp['member_id'] = i\n",
    "        ndata += dftemp.shape[0]\n",
    "        df = pd.concat([df, dftemp])\n",
    "df = df[df.label != 0]"
   ]
  },
  {
   "cell_type": "code",
   "execution_count": 103,
   "metadata": {
    "collapsed": false,
    "scrolled": false
   },
   "outputs": [
    {
     "data": {
      "text/html": [
       "<div>\n",
       "<table border=\"1\" class=\"dataframe\">\n",
       "  <thead>\n",
       "    <tr style=\"text-align: right;\">\n",
       "      <th></th>\n",
       "      <th>sequential number</th>\n",
       "      <th>x acceleration</th>\n",
       "      <th>y acceleration</th>\n",
       "      <th>z acceleration</th>\n",
       "      <th>label</th>\n",
       "      <th>id</th>\n",
       "      <th>member_id</th>\n",
       "    </tr>\n",
       "  </thead>\n",
       "  <tbody>\n",
       "    <tr>\n",
       "      <th>count</th>\n",
       "      <td>1923177.000000</td>\n",
       "      <td>1923177.000000</td>\n",
       "      <td>1923177.000000</td>\n",
       "      <td>1923177.000000</td>\n",
       "      <td>1923177.000000</td>\n",
       "      <td>1923177.000000</td>\n",
       "      <td>1923177.000000</td>\n",
       "    </tr>\n",
       "    <tr>\n",
       "      <th>mean</th>\n",
       "      <td>67156.079989</td>\n",
       "      <td>1987.478876</td>\n",
       "      <td>2382.299610</td>\n",
       "      <td>1970.488387</td>\n",
       "      <td>3.890407</td>\n",
       "      <td>96202.577305</td>\n",
       "      <td>7.394850</td>\n",
       "    </tr>\n",
       "    <tr>\n",
       "      <th>std</th>\n",
       "      <td>41482.445976</td>\n",
       "      <td>111.340810</td>\n",
       "      <td>100.210725</td>\n",
       "      <td>94.491207</td>\n",
       "      <td>2.439785</td>\n",
       "      <td>55573.730126</td>\n",
       "      <td>4.514254</td>\n",
       "    </tr>\n",
       "    <tr>\n",
       "      <th>min</th>\n",
       "      <td>0.000000</td>\n",
       "      <td>282.000000</td>\n",
       "      <td>2.000000</td>\n",
       "      <td>1.000000</td>\n",
       "      <td>1.000000</td>\n",
       "      <td>0.000000</td>\n",
       "      <td>0.000000</td>\n",
       "    </tr>\n",
       "    <tr>\n",
       "      <th>25%</th>\n",
       "      <td>32052.000000</td>\n",
       "      <td>1904.000000</td>\n",
       "      <td>2337.000000</td>\n",
       "      <td>1918.000000</td>\n",
       "      <td>1.000000</td>\n",
       "      <td>48079.000000</td>\n",
       "      <td>3.000000</td>\n",
       "    </tr>\n",
       "    <tr>\n",
       "      <th>50%</th>\n",
       "      <td>64334.000000</td>\n",
       "      <td>1992.000000</td>\n",
       "      <td>2367.000000</td>\n",
       "      <td>1988.000000</td>\n",
       "      <td>4.000000</td>\n",
       "      <td>96186.000000</td>\n",
       "      <td>8.000000</td>\n",
       "    </tr>\n",
       "    <tr>\n",
       "      <th>75%</th>\n",
       "      <td>98440.000000</td>\n",
       "      <td>2076.000000</td>\n",
       "      <td>2412.000000</td>\n",
       "      <td>2032.000000</td>\n",
       "      <td>7.000000</td>\n",
       "      <td>144289.000000</td>\n",
       "      <td>11.000000</td>\n",
       "    </tr>\n",
       "    <tr>\n",
       "      <th>max</th>\n",
       "      <td>166740.000000</td>\n",
       "      <td>3828.000000</td>\n",
       "      <td>4095.000000</td>\n",
       "      <td>4095.000000</td>\n",
       "      <td>7.000000</td>\n",
       "      <td>192689.000000</td>\n",
       "      <td>14.000000</td>\n",
       "    </tr>\n",
       "  </tbody>\n",
       "</table>\n",
       "</div>"
      ],
      "text/plain": [
       "       sequential number  x acceleration  y acceleration  z acceleration  \\\n",
       "count     1923177.000000  1923177.000000  1923177.000000  1923177.000000   \n",
       "mean        67156.079989     1987.478876     2382.299610     1970.488387   \n",
       "std         41482.445976      111.340810      100.210725       94.491207   \n",
       "min             0.000000      282.000000        2.000000        1.000000   \n",
       "25%         32052.000000     1904.000000     2337.000000     1918.000000   \n",
       "50%         64334.000000     1992.000000     2367.000000     1988.000000   \n",
       "75%         98440.000000     2076.000000     2412.000000     2032.000000   \n",
       "max        166740.000000     3828.000000     4095.000000     4095.000000   \n",
       "\n",
       "                label              id       member_id  \n",
       "count  1923177.000000  1923177.000000  1923177.000000  \n",
       "mean         3.890407    96202.577305        7.394850  \n",
       "std          2.439785    55573.730126        4.514254  \n",
       "min          1.000000        0.000000        0.000000  \n",
       "25%          1.000000    48079.000000        3.000000  \n",
       "50%          4.000000    96186.000000        8.000000  \n",
       "75%          7.000000   144289.000000       11.000000  \n",
       "max          7.000000   192689.000000       14.000000  "
      ]
     },
     "execution_count": 103,
     "metadata": {},
     "output_type": "execute_result"
    }
   ],
   "source": [
    "df.describe()"
   ]
  },
  {
   "cell_type": "code",
   "execution_count": 104,
   "metadata": {
    "collapsed": true
   },
   "outputs": [],
   "source": [
    "# extracting and adding mean, std, min and max of groups as new features\n",
    "df_new = pd.DataFrame()\n",
    "df_grouped = df.groupby('id')\n",
    "funcs =['mean()', 'std()','min()','max()']\n",
    "for f in funcs:\n",
    "    df_temp = eval('df_grouped.%s'%f)\n",
    "    df_temp.columns = df_temp.columns+'_'+f\n",
    "    df_new = pd.concat([df_new, df_temp], axis=1)\n",
    "for i in df_new.columns:\n",
    "    if not (i.startswith('x') | i.startswith('y') | i.startswith('z')):\n",
    "        df_new.drop(i,axis=1, inplace=True)\n",
    "df_new[['member_id','label']] = df_grouped.mean()[['member_id','label']]\n",
    "df_new.label = df_new.label.apply(int)\n",
    "df_new.member_id = df_new.member_id.apply(int)\n",
    "df_new.drop('member_id',axis=1,inplace=True)"
   ]
  },
  {
   "cell_type": "code",
   "execution_count": 105,
   "metadata": {
    "collapsed": false,
    "scrolled": false
   },
   "outputs": [
    {
     "data": {
      "text/html": [
       "<div>\n",
       "<table border=\"1\" class=\"dataframe\">\n",
       "  <thead>\n",
       "    <tr style=\"text-align: right;\">\n",
       "      <th></th>\n",
       "      <th>x acceleration_mean()</th>\n",
       "      <th>y acceleration_mean()</th>\n",
       "      <th>z acceleration_mean()</th>\n",
       "      <th>x acceleration_std()</th>\n",
       "      <th>y acceleration_std()</th>\n",
       "      <th>z acceleration_std()</th>\n",
       "      <th>x acceleration_min()</th>\n",
       "      <th>y acceleration_min()</th>\n",
       "      <th>z acceleration_min()</th>\n",
       "      <th>x acceleration_max()</th>\n",
       "      <th>y acceleration_max()</th>\n",
       "      <th>z acceleration_max()</th>\n",
       "      <th>label</th>\n",
       "    </tr>\n",
       "    <tr>\n",
       "      <th>id</th>\n",
       "      <th></th>\n",
       "      <th></th>\n",
       "      <th></th>\n",
       "      <th></th>\n",
       "      <th></th>\n",
       "      <th></th>\n",
       "      <th></th>\n",
       "      <th></th>\n",
       "      <th></th>\n",
       "      <th></th>\n",
       "      <th></th>\n",
       "      <th></th>\n",
       "      <th></th>\n",
       "    </tr>\n",
       "  </thead>\n",
       "  <tbody>\n",
       "    <tr>\n",
       "      <th>0</th>\n",
       "      <td>1595.0</td>\n",
       "      <td>1994.0</td>\n",
       "      <td>1946.9</td>\n",
       "      <td>53.162226</td>\n",
       "      <td>106.088014</td>\n",
       "      <td>92.065737</td>\n",
       "      <td>1502</td>\n",
       "      <td>1829</td>\n",
       "      <td>1831</td>\n",
       "      <td>1667</td>\n",
       "      <td>2215</td>\n",
       "      <td>2153</td>\n",
       "      <td>1</td>\n",
       "    </tr>\n",
       "    <tr>\n",
       "      <th>1</th>\n",
       "      <td>1571.8</td>\n",
       "      <td>2042.9</td>\n",
       "      <td>1959.1</td>\n",
       "      <td>41.781974</td>\n",
       "      <td>201.086742</td>\n",
       "      <td>43.393420</td>\n",
       "      <td>1508</td>\n",
       "      <td>1697</td>\n",
       "      <td>1866</td>\n",
       "      <td>1637</td>\n",
       "      <td>2468</td>\n",
       "      <td>2023</td>\n",
       "      <td>1</td>\n",
       "    </tr>\n",
       "    <tr>\n",
       "      <th>2</th>\n",
       "      <td>1612.6</td>\n",
       "      <td>2050.9</td>\n",
       "      <td>1996.8</td>\n",
       "      <td>31.777700</td>\n",
       "      <td>79.247082</td>\n",
       "      <td>50.446451</td>\n",
       "      <td>1542</td>\n",
       "      <td>1933</td>\n",
       "      <td>1916</td>\n",
       "      <td>1644</td>\n",
       "      <td>2133</td>\n",
       "      <td>2063</td>\n",
       "      <td>1</td>\n",
       "    </tr>\n",
       "    <tr>\n",
       "      <th>3</th>\n",
       "      <td>1608.6</td>\n",
       "      <td>1960.1</td>\n",
       "      <td>2081.0</td>\n",
       "      <td>36.564099</td>\n",
       "      <td>34.696942</td>\n",
       "      <td>36.657575</td>\n",
       "      <td>1561</td>\n",
       "      <td>1922</td>\n",
       "      <td>2011</td>\n",
       "      <td>1694</td>\n",
       "      <td>2032</td>\n",
       "      <td>2142</td>\n",
       "      <td>1</td>\n",
       "    </tr>\n",
       "    <tr>\n",
       "      <th>4</th>\n",
       "      <td>1612.0</td>\n",
       "      <td>1944.7</td>\n",
       "      <td>2035.2</td>\n",
       "      <td>19.125318</td>\n",
       "      <td>33.456605</td>\n",
       "      <td>26.046113</td>\n",
       "      <td>1573</td>\n",
       "      <td>1868</td>\n",
       "      <td>2005</td>\n",
       "      <td>1640</td>\n",
       "      <td>1983</td>\n",
       "      <td>2077</td>\n",
       "      <td>1</td>\n",
       "    </tr>\n",
       "  </tbody>\n",
       "</table>\n",
       "</div>"
      ],
      "text/plain": [
       "    x acceleration_mean()  y acceleration_mean()  z acceleration_mean()  \\\n",
       "id                                                                        \n",
       "0                  1595.0                 1994.0                 1946.9   \n",
       "1                  1571.8                 2042.9                 1959.1   \n",
       "2                  1612.6                 2050.9                 1996.8   \n",
       "3                  1608.6                 1960.1                 2081.0   \n",
       "4                  1612.0                 1944.7                 2035.2   \n",
       "\n",
       "    x acceleration_std()  y acceleration_std()  z acceleration_std()  \\\n",
       "id                                                                     \n",
       "0              53.162226            106.088014             92.065737   \n",
       "1              41.781974            201.086742             43.393420   \n",
       "2              31.777700             79.247082             50.446451   \n",
       "3              36.564099             34.696942             36.657575   \n",
       "4              19.125318             33.456605             26.046113   \n",
       "\n",
       "    x acceleration_min()  y acceleration_min()  z acceleration_min()  \\\n",
       "id                                                                     \n",
       "0                   1502                  1829                  1831   \n",
       "1                   1508                  1697                  1866   \n",
       "2                   1542                  1933                  1916   \n",
       "3                   1561                  1922                  2011   \n",
       "4                   1573                  1868                  2005   \n",
       "\n",
       "    x acceleration_max()  y acceleration_max()  z acceleration_max()  label  \n",
       "id                                                                           \n",
       "0                   1667                  2215                  2153      1  \n",
       "1                   1637                  2468                  2023      1  \n",
       "2                   1644                  2133                  2063      1  \n",
       "3                   1694                  2032                  2142      1  \n",
       "4                   1640                  1983                  2077      1  "
      ]
     },
     "execution_count": 105,
     "metadata": {},
     "output_type": "execute_result"
    }
   ],
   "source": [
    "df_new.head()"
   ]
  },
  {
   "cell_type": "markdown",
   "metadata": {},
   "source": [
    "# Random Forest Classifier"
   ]
  },
  {
   "cell_type": "code",
   "execution_count": 106,
   "metadata": {
    "collapsed": false,
    "scrolled": false
   },
   "outputs": [
    {
     "name": "stdout",
     "output_type": "stream",
     "text": [
      "Classifier RandomForestClassifier:\n",
      "             precision    recall  f1-score   support\n",
      "\n",
      "          1       0.92      0.94      0.93     24269\n",
      "          2       0.61      0.30      0.40      1950\n",
      "          3       0.64      0.56      0.60      8825\n",
      "          4       0.76      0.89      0.82     14193\n",
      "          5       0.51      0.24      0.33      2078\n",
      "          6       0.62      0.31      0.42      1933\n",
      "          7       0.84      0.88      0.86     23682\n",
      "\n",
      "avg / total       0.81      0.82      0.81     76930\n",
      "\n",
      "\n",
      "Confusion Matrix:\n",
      "[[22778   164   241   319    27     4   736]\n",
      " [  642   588   131   323    14     3   249]\n",
      " [  381    54  4954  1535   214    88  1599]\n",
      " [  223    46   758 12669   104     8   385]\n",
      " [   79    10   414   770   503    34   268]\n",
      " [   40     8   221   354    55   601   654]\n",
      " [  718    87   983   733    64   224 20873]]\n",
      "Normalized Confusion Matrix:\n",
      "[[ 0.94  0.01  0.01  0.01  0.    0.    0.03]\n",
      " [ 0.33  0.3   0.07  0.17  0.01  0.    0.13]\n",
      " [ 0.04  0.01  0.56  0.17  0.02  0.01  0.18]\n",
      " [ 0.02  0.    0.05  0.89  0.01  0.    0.03]\n",
      " [ 0.04  0.    0.2   0.37  0.24  0.02  0.13]\n",
      " [ 0.02  0.    0.11  0.18  0.03  0.31  0.34]\n",
      " [ 0.03  0.    0.04  0.03  0.    0.01  0.88]]\n"
     ]
    },
    {
     "data": {
      "image/png": "[encoded data removed]",
      "text/plain": [
       "<matplotlib.figure.Figure at 0x110ce30d0>"
      ]
     },
     "metadata": {},
     "output_type": "display_data"
    }
   ],
   "source": [
    "rfc1 = train_classifier(df_new.copy(), rf, 0.4)"
   ]
  },
  {
   "cell_type": "markdown",
   "metadata": {},
   "source": [
    "# Gradient Boosting Classifier"
   ]
  },
  {
   "cell_type": "code",
   "execution_count": 107,
   "metadata": {
    "collapsed": false
   },
   "outputs": [
    {
     "name": "stdout",
     "output_type": "stream",
     "text": [
      "Classifier GradientBoostingClassifier:\n",
      "             precision    recall  f1-score   support\n",
      "\n",
      "          1       0.86      0.91      0.89     24269\n",
      "          2       0.71      0.08      0.14      1950\n",
      "          3       0.65      0.37      0.47      8825\n",
      "          4       0.71      0.89      0.79     14193\n",
      "          5       0.55      0.10      0.17      2078\n",
      "          6       0.60      0.14      0.22      1933\n",
      "          7       0.75      0.87      0.81     23682\n",
      "\n",
      "avg / total       0.76      0.77      0.74     76930\n",
      "\n",
      "\n",
      "Confusion Matrix:\n",
      "[[22069    45   139   406     9     2  1599]\n",
      " [  811   151   106   383     5     2   492]\n",
      " [  929     5  3237  1871    66    54  2663]\n",
      " [  277     6   514 12625    37     3   731]\n",
      " [  117     1   337   992   206    29   396]\n",
      " [   54     1   198   388    41   263   988]\n",
      " [ 1332     3   468  1088    12    86 20693]]\n",
      "Normalized Confusion Matrix:\n",
      "[[ 0.91  0.    0.01  0.02  0.    0.    0.07]\n",
      " [ 0.42  0.08  0.05  0.2   0.    0.    0.25]\n",
      " [ 0.11  0.    0.37  0.21  0.01  0.01  0.3 ]\n",
      " [ 0.02  0.    0.04  0.89  0.    0.    0.05]\n",
      " [ 0.06  0.    0.16  0.48  0.1   0.01  0.19]\n",
      " [ 0.03  0.    0.1   0.2   0.02  0.14  0.51]\n",
      " [ 0.06  0.    0.02  0.05  0.    0.    0.87]]\n"
     ]
    },
    {
     "data": {
      "image/png": "[encoded data removed]",
      "text/plain": [
       "<matplotlib.figure.Figure at 0x110ecd250>"
      ]
     },
     "metadata": {},
     "output_type": "display_data"
    }
   ],
   "source": [
    "gbc = train_classifier(df_new.copy(), gb, 0.4)"
   ]
  },
  {
   "cell_type": "markdown",
   "metadata": {},
   "source": [
    "# SVC model\n",
    "- SVC is a strong algorithm for multiclass problems, however, it is hard to train. SVM models are known to perform better for smaller training size, so I am selecting a subset of data to train so it can be done faster.\n"
   ]
  },
  {
   "cell_type": "code",
   "execution_count": 108,
   "metadata": {
    "collapsed": false,
    "scrolled": false
   },
   "outputs": [
    {
     "name": "stdout",
     "output_type": "stream",
     "text": [
      "Classifier SVC:\n",
      "             precision    recall  f1-score   support\n",
      "\n",
      "          1       0.82      0.85      0.83     54758\n",
      "          2       0.66      0.02      0.03      4269\n",
      "          3       0.52      0.08      0.14     19561\n",
      "          4       0.72      0.88      0.79     32240\n",
      "          5       0.79      0.01      0.01      4629\n",
      "          6       0.00      0.00      0.00      4314\n",
      "          7       0.63      0.88      0.73     53322\n",
      "\n",
      "avg / total       0.68      0.71      0.65    173093\n",
      "\n",
      "\n",
      "Confusion Matrix:\n",
      "[[46378    31   183   854     1     0  7311]\n",
      " [ 2040    69   125   753     0     0  1282]\n",
      " [ 2606     4  1614  3992     3     0 11342]\n",
      " [  942     0   660 28359     3     0  2276]\n",
      " [  356     0    34  2362    30     0  1847]\n",
      " [  165     1    25   851     0     0  3272]\n",
      " [ 4060     0   457  2029     1     1 46774]]\n",
      "Normalized Confusion Matrix:\n",
      "[[ 0.85  0.    0.    0.02  0.    0.    0.13]\n",
      " [ 0.48  0.02  0.03  0.18  0.    0.    0.3 ]\n",
      " [ 0.13  0.    0.08  0.2   0.    0.    0.58]\n",
      " [ 0.03  0.    0.02  0.88  0.    0.    0.07]\n",
      " [ 0.08  0.    0.01  0.51  0.01  0.    0.4 ]\n",
      " [ 0.04  0.    0.01  0.2   0.    0.    0.76]\n",
      " [ 0.08  0.    0.01  0.04  0.    0.    0.88]]\n"
     ]
    },
    {
     "data": {
      "image/png": "[encoded data removed]",
      "text/plain": [
       "<matplotlib.figure.Figure at 0x112f900d0>"
      ]
     },
     "metadata": {},
     "output_type": "display_data"
    }
   ],
   "source": [
    "clsvm = train_classifier(df_new.copy(), svm.SVC, 0.9)"
   ]
  },
  {
   "cell_type": "markdown",
   "metadata": {},
   "source": [
    "# Summary\n",
    "\n",
    "## Overall, Random forest is performing better"
   ]
  },
  {
   "cell_type": "markdown",
   "metadata": {
    "collapsed": true
   },
   "source": [
    "# Proposed following steps\n",
    "\n",
    "- Select one algorithm and find optimum training parameters. \n",
    "- Looking into unballance effects of labels, train using similar number of data\n",
    "- Considering user specific model, including user id as a feature\n",
    "- Creating more features using properties and relation of data in each group\n",
    "- Optimizing size of groups (currently 20)"
   ]
  },
  {
   "cell_type": "code",
   "execution_count": null,
   "metadata": {
    "collapsed": true
   },
   "outputs": [],
   "source": []
  },
  {
   "cell_type": "code",
   "execution_count": null,
   "metadata": {
    "collapsed": true
   },
   "outputs": [],
   "source": []
  }
 ],
 "metadata": {
  "kernelspec": {
   "display_name": "Python 2",
   "language": "python",
   "name": "python2"
  },
  "language_info": {
   "codemirror_mode": {
    "name": "ipython",
    "version": 2
   },
   "file_extension": ".py",
   "mimetype": "text/x-python",
   "name": "python",
   "nbconvert_exporter": "python",
   "pygments_lexer": "ipython2",
   "version": "2.7.11"
  }
 },
 "nbformat": 4,
 "nbformat_minor": 0
}
